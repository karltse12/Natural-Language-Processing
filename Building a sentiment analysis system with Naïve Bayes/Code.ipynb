{
 "cells": [
  {
   "cell_type": "markdown",
   "id": "667ebc5b",
   "metadata": {},
   "source": [
    "## Import libraries, read files and remove useless rows"
   ]
  },
  {
   "cell_type": "code",
   "execution_count": 2,
   "id": "226cdafc",
   "metadata": {},
   "outputs": [
    {
     "name": "stderr",
     "output_type": "stream",
     "text": [
      "[nltk_data] Downloading package omw-1.4 to\n",
      "[nltk_data]     C:\\Users\\manho\\AppData\\Roaming\\nltk_data...\n",
      "[nltk_data]   Package omw-1.4 is already up-to-date!\n"
     ]
    }
   ],
   "source": [
    "# import libraries\n",
    "import numpy as np\n",
    "import pandas as pd\n",
    "import re\n",
    "import nltk\n",
    "nltk.download('omw-1.4')\n",
    "from collections import Counter\n",
    "import string\n",
    "\n",
    "# Read the csv file\n",
    "df = pd.read_csv('data.csv')\n",
    "\n",
    "# Remove unlabelled samples\n",
    "df = df[df['label']!=\"unsup\"]\n",
    "\n",
    "# Data cleaning and preprocessing\n",
    "from nltk.tokenize import word_tokenize\n",
    "from nltk.corpus import stopwords\n",
    "cachedStopWords = stopwords.words(\"english\")\n",
    "\n",
    "df['review'] = df['review'].apply(lambda x: re.sub('[^a-zA-Z]', ' ',x))\n",
    "df['review'] = df['review'].apply(lambda x: x.lower())\n",
    "df['review'] = df['review'].apply(lambda x: x.split())\n"
   ]
  },
  {
   "cell_type": "markdown",
   "id": "0ac05a46",
   "metadata": {},
   "source": [
    "## Naive Bayes Classifier by scratch"
   ]
  },
  {
   "cell_type": "markdown",
   "id": "0bfee691",
   "metadata": {},
   "source": [
    "#### Functions to calculate the logarithm of probaility of single word"
   ]
  },
  {
   "cell_type": "code",
   "execution_count": 3,
   "id": "55a72d2f",
   "metadata": {},
   "outputs": [],
   "source": [
    "def word_log_prob(word, k):\n",
    "    word = word.lower()\n",
    "    if word in distinct_words_frequency:\n",
    "        prob_given_pos= (pos_words_frequency.get(word,0)+1*k / (number_pos_words+V*k))\n",
    "        prob_given_neg = (neg_words_frequency.get(word,0)+1*k / (number_neg_words+V*k)) \n",
    "        return np.log(prob_given_pos/prob_given_neg)\n",
    "    else:\n",
    "        return(0)"
   ]
  },
  {
   "cell_type": "markdown",
   "id": "c5fd88a2",
   "metadata": {},
   "source": [
    "#### Functions to calculate the logarithm of probaility of whole review"
   ]
  },
  {
   "cell_type": "code",
   "execution_count": 4,
   "id": "d3c0cc3f",
   "metadata": {},
   "outputs": [],
   "source": [
    "def review_log_prob(review, k):\n",
    "    review = review.lower().split(\" \")\n",
    "    prob_product = logprior\n",
    "    for word in review:\n",
    "        prob_product+= word_log_prob(word, k)\n",
    "    return prob_product"
   ]
  },
  {
   "cell_type": "markdown",
   "id": "0b2c1097",
   "metadata": {},
   "source": [
    "#### Functions to calculate the F1 score"
   ]
  },
  {
   "cell_type": "code",
   "execution_count": 5,
   "id": "a925317c",
   "metadata": {},
   "outputs": [],
   "source": [
    "def Naives_Bayes_F1(k):\n",
    "    \n",
    "    global distinct_words_frequency\n",
    "    global V\n",
    "    global pos_words_frequency\n",
    "    global neg_words_frequency\n",
    "    global number_pos_words\n",
    "    global number_neg_words\n",
    "    global number_pos_reviews\n",
    "    global number_neg_reviews\n",
    "    global logprior\n",
    "    \n",
    "    # Create a dictionary to store the frequency of distinct words\n",
    "    distinct_words_frequency = Counter(\" \".join(df_train['new_review'].values.tolist()).split(\" \"))\n",
    "    V = len(distinct_words_frequency.items())\n",
    "    \n",
    "    # Create dictionaries to store frequency of both positive words and negative words\n",
    "    pos_words_frequency = Counter(\" \".join(df_train.loc[df_train.label=='pos']['new_review'].values.tolist()).split(\" \")) \n",
    "    neg_words_frequency = Counter(\" \".join(df_train.loc[df_train.label=='neg']['new_review'].values.tolist()).split(\" \")) \n",
    "    \n",
    "    # Get the number of distinct positive words and negative words\n",
    "    number_pos_words = len(pos_words_frequency.items()) \n",
    "    number_neg_words = len(neg_words_frequency.items()) \n",
    "    \n",
    "    # Get the number of positive and negative reviews in train data\n",
    "    number_pos_reviews = sum(df_train.label=='pos')\n",
    "    number_neg_reviews = sum(df_train.label=='neg')\n",
    "    \n",
    "    logprior = np.log(number_pos_reviews/number_neg_reviews)\n",
    "    \n",
    "    df_test['score'] = df['new_review'].apply(lambda x: review_log_prob(x, k))\n",
    "    df_test['cal_label'] = df_test['score'].apply(lambda x: 'pos' if x>0 else 'neg')\n",
    "    df_test['result'] = (df_test['label']==df_test['cal_label'])\n",
    "    \n",
    "    # 4 conitions - True positive, True Negative, False Positive, False Negative\n",
    "    conditions = [\n",
    "    (df_test['result']==True) & (df_test['cal_label']=='pos'),\n",
    "    (df_test['result']==True) & (df_test['cal_label']=='neg'),\n",
    "    (df_test['result']==False) & (df_test['cal_label']=='pos'),\n",
    "    (df_test['result']==False) & (df_test['cal_label']=='neg')\n",
    "    ]\n",
    "    values = ['true_pos', 'true_neg', 'false_pos', 'false_neg']\n",
    "    df_test['condition'] = np.select(conditions, values)\n",
    "    \n",
    "    # Count the number of 4 conditions (each)\n",
    "    true_pos = (df_test['condition']=='true_pos').sum()\n",
    "    true_neg = (df_test['condition']=='true_neg').sum()\n",
    "    false_pos = (df_test['condition']=='false_pos').sum()\n",
    "    false_neg = (df_test['condition']=='false_neg').sum()\n",
    "    \n",
    "    # Calculate F1 score\n",
    "    F1_score = true_pos /(true_pos + 0.5*(false_pos + false_neg))\n",
    "    \n",
    "    return F1_score\n",
    "        "
   ]
  },
  {
   "cell_type": "markdown",
   "id": "00ca70f5",
   "metadata": {},
   "source": [
    "## Analysis of various factors that impact the performance"
   ]
  },
  {
   "cell_type": "markdown",
   "id": "b5683a96",
   "metadata": {},
   "source": [
    "### 1st experiment:  Different types of text normalization"
   ]
  },
  {
   "cell_type": "markdown",
   "id": "6a46a17a",
   "metadata": {},
   "source": [
    "#### Use Lemmatization for text normalization"
   ]
  },
  {
   "cell_type": "code",
   "execution_count": 6,
   "id": "2e10aef4",
   "metadata": {
    "scrolled": true
   },
   "outputs": [
    {
     "name": "stderr",
     "output_type": "stream",
     "text": [
      "C:\\Users\\manho\\AppData\\Local\\Temp/ipykernel_48788/3107627043.py:31: SettingWithCopyWarning: \n",
      "A value is trying to be set on a copy of a slice from a DataFrame.\n",
      "Try using .loc[row_indexer,col_indexer] = value instead\n",
      "\n",
      "See the caveats in the documentation: https://pandas.pydata.org/pandas-docs/stable/user_guide/indexing.html#returning-a-view-versus-a-copy\n",
      "  df_test['score'] = df['new_review'].apply(lambda x: review_log_prob(x, k))\n",
      "C:\\Users\\manho\\AppData\\Local\\Temp/ipykernel_48788/3107627043.py:32: SettingWithCopyWarning: \n",
      "A value is trying to be set on a copy of a slice from a DataFrame.\n",
      "Try using .loc[row_indexer,col_indexer] = value instead\n",
      "\n",
      "See the caveats in the documentation: https://pandas.pydata.org/pandas-docs/stable/user_guide/indexing.html#returning-a-view-versus-a-copy\n",
      "  df_test['cal_label'] = df_test['score'].apply(lambda x: 'pos' if x>0 else 'neg')\n",
      "C:\\Users\\manho\\AppData\\Local\\Temp/ipykernel_48788/3107627043.py:33: SettingWithCopyWarning: \n",
      "A value is trying to be set on a copy of a slice from a DataFrame.\n",
      "Try using .loc[row_indexer,col_indexer] = value instead\n",
      "\n",
      "See the caveats in the documentation: https://pandas.pydata.org/pandas-docs/stable/user_guide/indexing.html#returning-a-view-versus-a-copy\n",
      "  df_test['result'] = (df_test['label']==df_test['cal_label'])\n",
      "C:\\Users\\manho\\AppData\\Local\\Temp/ipykernel_48788/3107627043.py:43: SettingWithCopyWarning: \n",
      "A value is trying to be set on a copy of a slice from a DataFrame.\n",
      "Try using .loc[row_indexer,col_indexer] = value instead\n",
      "\n",
      "See the caveats in the documentation: https://pandas.pydata.org/pandas-docs/stable/user_guide/indexing.html#returning-a-view-versus-a-copy\n",
      "  df_test['condition'] = np.select(conditions, values)\n"
     ]
    },
    {
     "data": {
      "text/plain": [
       "0.7630712392578909"
      ]
     },
     "execution_count": 6,
     "metadata": {},
     "output_type": "execute_result"
    }
   ],
   "source": [
    "from nltk.stem import WordNetLemmatizer\n",
    "lemmatizer = WordNetLemmatizer()\n",
    "\n",
    "df['new_review'] = df['review'].apply(lambda x: [lemmatizer.lemmatize(word) for word in x if word.isalpha() and word not in cachedStopWords])\n",
    "df['new_review'] = df['new_review'].apply(lambda x: ' '.join(x))\n",
    "\n",
    "# Separate train and test data\n",
    "df_train = df[df['type']==\"train\"]\n",
    "df_test = df[df['type']==\"test\"]\n",
    "\n",
    "lemma_score = Naives_Bayes_F1(1)\n",
    "lemma_score"
   ]
  },
  {
   "cell_type": "markdown",
   "id": "25a1acb6",
   "metadata": {},
   "source": [
    "#### Use Porter Stemmer for text normalization"
   ]
  },
  {
   "cell_type": "code",
   "execution_count": 7,
   "id": "29353f78",
   "metadata": {},
   "outputs": [
    {
     "name": "stderr",
     "output_type": "stream",
     "text": [
      "C:\\Users\\manho\\AppData\\Local\\Temp/ipykernel_48788/3107627043.py:31: SettingWithCopyWarning: \n",
      "A value is trying to be set on a copy of a slice from a DataFrame.\n",
      "Try using .loc[row_indexer,col_indexer] = value instead\n",
      "\n",
      "See the caveats in the documentation: https://pandas.pydata.org/pandas-docs/stable/user_guide/indexing.html#returning-a-view-versus-a-copy\n",
      "  df_test['score'] = df['new_review'].apply(lambda x: review_log_prob(x, k))\n",
      "C:\\Users\\manho\\AppData\\Local\\Temp/ipykernel_48788/3107627043.py:32: SettingWithCopyWarning: \n",
      "A value is trying to be set on a copy of a slice from a DataFrame.\n",
      "Try using .loc[row_indexer,col_indexer] = value instead\n",
      "\n",
      "See the caveats in the documentation: https://pandas.pydata.org/pandas-docs/stable/user_guide/indexing.html#returning-a-view-versus-a-copy\n",
      "  df_test['cal_label'] = df_test['score'].apply(lambda x: 'pos' if x>0 else 'neg')\n",
      "C:\\Users\\manho\\AppData\\Local\\Temp/ipykernel_48788/3107627043.py:33: SettingWithCopyWarning: \n",
      "A value is trying to be set on a copy of a slice from a DataFrame.\n",
      "Try using .loc[row_indexer,col_indexer] = value instead\n",
      "\n",
      "See the caveats in the documentation: https://pandas.pydata.org/pandas-docs/stable/user_guide/indexing.html#returning-a-view-versus-a-copy\n",
      "  df_test['result'] = (df_test['label']==df_test['cal_label'])\n",
      "C:\\Users\\manho\\AppData\\Local\\Temp/ipykernel_48788/3107627043.py:43: SettingWithCopyWarning: \n",
      "A value is trying to be set on a copy of a slice from a DataFrame.\n",
      "Try using .loc[row_indexer,col_indexer] = value instead\n",
      "\n",
      "See the caveats in the documentation: https://pandas.pydata.org/pandas-docs/stable/user_guide/indexing.html#returning-a-view-versus-a-copy\n",
      "  df_test['condition'] = np.select(conditions, values)\n"
     ]
    },
    {
     "data": {
      "text/plain": [
       "0.765013785112079"
      ]
     },
     "execution_count": 7,
     "metadata": {},
     "output_type": "execute_result"
    }
   ],
   "source": [
    "from nltk.stem.porter import PorterStemmer\n",
    "ps = PorterStemmer()\n",
    "\n",
    "df['new_review'] = df['review'].apply(lambda x: [ps.stem(word) for word in x if word.isalpha() and word not in cachedStopWords])\n",
    "df['new_review'] = df['new_review'].apply(lambda x: ' '.join(x))\n",
    "\n",
    "# Separate train and test data\n",
    "df_train = df[df['type']==\"train\"]\n",
    "df_test = df[df['type']==\"test\"]\n",
    "\n",
    "porter_stem_score = Naives_Bayes_F1(1)\n",
    "porter_stem_score"
   ]
  },
  {
   "cell_type": "markdown",
   "id": "f5bc006b",
   "metadata": {},
   "source": [
    "#### Use Snowball Stemmer for text normalization"
   ]
  },
  {
   "cell_type": "code",
   "execution_count": 8,
   "id": "a40fe13d",
   "metadata": {},
   "outputs": [
    {
     "name": "stderr",
     "output_type": "stream",
     "text": [
      "C:\\Users\\manho\\AppData\\Local\\Temp/ipykernel_48788/3107627043.py:31: SettingWithCopyWarning: \n",
      "A value is trying to be set on a copy of a slice from a DataFrame.\n",
      "Try using .loc[row_indexer,col_indexer] = value instead\n",
      "\n",
      "See the caveats in the documentation: https://pandas.pydata.org/pandas-docs/stable/user_guide/indexing.html#returning-a-view-versus-a-copy\n",
      "  df_test['score'] = df['new_review'].apply(lambda x: review_log_prob(x, k))\n",
      "C:\\Users\\manho\\AppData\\Local\\Temp/ipykernel_48788/3107627043.py:32: SettingWithCopyWarning: \n",
      "A value is trying to be set on a copy of a slice from a DataFrame.\n",
      "Try using .loc[row_indexer,col_indexer] = value instead\n",
      "\n",
      "See the caveats in the documentation: https://pandas.pydata.org/pandas-docs/stable/user_guide/indexing.html#returning-a-view-versus-a-copy\n",
      "  df_test['cal_label'] = df_test['score'].apply(lambda x: 'pos' if x>0 else 'neg')\n",
      "C:\\Users\\manho\\AppData\\Local\\Temp/ipykernel_48788/3107627043.py:33: SettingWithCopyWarning: \n",
      "A value is trying to be set on a copy of a slice from a DataFrame.\n",
      "Try using .loc[row_indexer,col_indexer] = value instead\n",
      "\n",
      "See the caveats in the documentation: https://pandas.pydata.org/pandas-docs/stable/user_guide/indexing.html#returning-a-view-versus-a-copy\n",
      "  df_test['result'] = (df_test['label']==df_test['cal_label'])\n",
      "C:\\Users\\manho\\AppData\\Local\\Temp/ipykernel_48788/3107627043.py:43: SettingWithCopyWarning: \n",
      "A value is trying to be set on a copy of a slice from a DataFrame.\n",
      "Try using .loc[row_indexer,col_indexer] = value instead\n",
      "\n",
      "See the caveats in the documentation: https://pandas.pydata.org/pandas-docs/stable/user_guide/indexing.html#returning-a-view-versus-a-copy\n",
      "  df_test['condition'] = np.select(conditions, values)\n"
     ]
    },
    {
     "data": {
      "text/plain": [
       "0.7640269957270077"
      ]
     },
     "execution_count": 8,
     "metadata": {},
     "output_type": "execute_result"
    }
   ],
   "source": [
    "from nltk.stem import SnowballStemmer\n",
    "snowball = SnowballStemmer(language='english')\n",
    "\n",
    "df['new_review'] = df['review'].apply(lambda x: [snowball.stem(word) for word in x if word.isalpha() and word not in cachedStopWords])\n",
    "df['new_review'] = df['new_review'].apply(lambda x: ' '.join(x))\n",
    "\n",
    "# Separate train and test data\n",
    "df_train = df[df['type']==\"train\"]\n",
    "df_test = df[df['type']==\"test\"]\n",
    "\n",
    "snowball_stem_score = Naives_Bayes_F1(1)\n",
    "snowball_stem_score"
   ]
  },
  {
   "cell_type": "markdown",
   "id": "2069b62b",
   "metadata": {},
   "source": [
    "### Compare F1 Score for each text normalization"
   ]
  },
  {
   "cell_type": "code",
   "execution_count": 9,
   "id": "bfd495c1",
   "metadata": {},
   "outputs": [
    {
     "data": {
      "image/png": "[encoded data removed]",
      "text/plain": [
       "<Figure size 864x432 with 1 Axes>"
      ]
     },
     "metadata": {
      "needs_background": "light"
     },
     "output_type": "display_data"
    }
   ],
   "source": [
    "import matplotlib.pyplot as plt\n",
    "text_processing = ['Lemmatization', 'Porter Stemming', 'Snowball Stemming']\n",
    "values = [lemma_score, porter_stem_score, snowball_stem_score]\n",
    "\n",
    "\n",
    "fig = plt.figure(figsize = (12, 6))\n",
    " \n",
    "# Create the bar plot\n",
    "plt.bar(text_processing, values, color ='green',\n",
    "        width = 0.4)\n",
    "\n",
    "plt.xlabel(\"Types of Text Processing\")\n",
    "plt.ylabel(\"F1 score\")\n",
    "plt.title(\"F1 Score for Different Text Processing\")\n",
    "plt.show()"
   ]
  },
  {
   "cell_type": "markdown",
   "id": "96fd55d5",
   "metadata": {},
   "source": [
    "### 2nd experiment: Different k value for k smoothing for building the Naïve Bayes Classifier"
   ]
  },
  {
   "cell_type": "markdown",
   "id": "5228de75",
   "metadata": {},
   "source": [
    "#### smoothing parameter k = 1"
   ]
  },
  {
   "cell_type": "code",
   "execution_count": 10,
   "id": "5298073d",
   "metadata": {},
   "outputs": [],
   "source": [
    "porter_stem_k1_score = porter_stem_score"
   ]
  },
  {
   "cell_type": "markdown",
   "id": "bd5adaff",
   "metadata": {},
   "source": [
    "#### smoothing parameter k = 2"
   ]
  },
  {
   "cell_type": "code",
   "execution_count": 11,
   "id": "b2e5e2f7",
   "metadata": {},
   "outputs": [
    {
     "name": "stderr",
     "output_type": "stream",
     "text": [
      "C:\\Users\\manho\\AppData\\Local\\Temp/ipykernel_48788/3107627043.py:31: SettingWithCopyWarning: \n",
      "A value is trying to be set on a copy of a slice from a DataFrame.\n",
      "Try using .loc[row_indexer,col_indexer] = value instead\n",
      "\n",
      "See the caveats in the documentation: https://pandas.pydata.org/pandas-docs/stable/user_guide/indexing.html#returning-a-view-versus-a-copy\n",
      "  df_test['score'] = df['new_review'].apply(lambda x: review_log_prob(x, k))\n",
      "C:\\Users\\manho\\AppData\\Local\\Temp/ipykernel_48788/3107627043.py:32: SettingWithCopyWarning: \n",
      "A value is trying to be set on a copy of a slice from a DataFrame.\n",
      "Try using .loc[row_indexer,col_indexer] = value instead\n",
      "\n",
      "See the caveats in the documentation: https://pandas.pydata.org/pandas-docs/stable/user_guide/indexing.html#returning-a-view-versus-a-copy\n",
      "  df_test['cal_label'] = df_test['score'].apply(lambda x: 'pos' if x>0 else 'neg')\n",
      "C:\\Users\\manho\\AppData\\Local\\Temp/ipykernel_48788/3107627043.py:33: SettingWithCopyWarning: \n",
      "A value is trying to be set on a copy of a slice from a DataFrame.\n",
      "Try using .loc[row_indexer,col_indexer] = value instead\n",
      "\n",
      "See the caveats in the documentation: https://pandas.pydata.org/pandas-docs/stable/user_guide/indexing.html#returning-a-view-versus-a-copy\n",
      "  df_test['result'] = (df_test['label']==df_test['cal_label'])\n",
      "C:\\Users\\manho\\AppData\\Local\\Temp/ipykernel_48788/3107627043.py:43: SettingWithCopyWarning: \n",
      "A value is trying to be set on a copy of a slice from a DataFrame.\n",
      "Try using .loc[row_indexer,col_indexer] = value instead\n",
      "\n",
      "See the caveats in the documentation: https://pandas.pydata.org/pandas-docs/stable/user_guide/indexing.html#returning-a-view-versus-a-copy\n",
      "  df_test['condition'] = np.select(conditions, values)\n"
     ]
    },
    {
     "data": {
      "text/plain": [
       "0.7663364754753156"
      ]
     },
     "execution_count": 11,
     "metadata": {},
     "output_type": "execute_result"
    }
   ],
   "source": [
    "from nltk.stem.porter import PorterStemmer\n",
    "ps = PorterStemmer()\n",
    "\n",
    "df['new_review'] = df['review'].apply(lambda x: [ps.stem(word) for word in x if word.isalpha() and word not in cachedStopWords])\n",
    "df['new_review'] = df['new_review'].apply(lambda x: ' '.join(x))\n",
    "\n",
    "# Separate train and test data\n",
    "df_train = df[df['type']==\"train\"]\n",
    "df_test = df[df['type']==\"test\"]\n",
    "\n",
    "porter_stem_k2_score = Naives_Bayes_F1(2)\n",
    "porter_stem_k2_score"
   ]
  },
  {
   "cell_type": "markdown",
   "id": "bb407276",
   "metadata": {},
   "source": [
    "#### smoothing parameter k = 3"
   ]
  },
  {
   "cell_type": "code",
   "execution_count": 12,
   "id": "1ea13fdc",
   "metadata": {},
   "outputs": [
    {
     "name": "stderr",
     "output_type": "stream",
     "text": [
      "C:\\Users\\manho\\AppData\\Local\\Temp/ipykernel_48788/3107627043.py:31: SettingWithCopyWarning: \n",
      "A value is trying to be set on a copy of a slice from a DataFrame.\n",
      "Try using .loc[row_indexer,col_indexer] = value instead\n",
      "\n",
      "See the caveats in the documentation: https://pandas.pydata.org/pandas-docs/stable/user_guide/indexing.html#returning-a-view-versus-a-copy\n",
      "  df_test['score'] = df['new_review'].apply(lambda x: review_log_prob(x, k))\n",
      "C:\\Users\\manho\\AppData\\Local\\Temp/ipykernel_48788/3107627043.py:32: SettingWithCopyWarning: \n",
      "A value is trying to be set on a copy of a slice from a DataFrame.\n",
      "Try using .loc[row_indexer,col_indexer] = value instead\n",
      "\n",
      "See the caveats in the documentation: https://pandas.pydata.org/pandas-docs/stable/user_guide/indexing.html#returning-a-view-versus-a-copy\n",
      "  df_test['cal_label'] = df_test['score'].apply(lambda x: 'pos' if x>0 else 'neg')\n",
      "C:\\Users\\manho\\AppData\\Local\\Temp/ipykernel_48788/3107627043.py:33: SettingWithCopyWarning: \n",
      "A value is trying to be set on a copy of a slice from a DataFrame.\n",
      "Try using .loc[row_indexer,col_indexer] = value instead\n",
      "\n",
      "See the caveats in the documentation: https://pandas.pydata.org/pandas-docs/stable/user_guide/indexing.html#returning-a-view-versus-a-copy\n",
      "  df_test['result'] = (df_test['label']==df_test['cal_label'])\n",
      "C:\\Users\\manho\\AppData\\Local\\Temp/ipykernel_48788/3107627043.py:43: SettingWithCopyWarning: \n",
      "A value is trying to be set on a copy of a slice from a DataFrame.\n",
      "Try using .loc[row_indexer,col_indexer] = value instead\n",
      "\n",
      "See the caveats in the documentation: https://pandas.pydata.org/pandas-docs/stable/user_guide/indexing.html#returning-a-view-versus-a-copy\n",
      "  df_test['condition'] = np.select(conditions, values)\n"
     ]
    },
    {
     "data": {
      "text/plain": [
       "0.7668157852692123"
      ]
     },
     "execution_count": 12,
     "metadata": {},
     "output_type": "execute_result"
    }
   ],
   "source": [
    "from nltk.stem.porter import PorterStemmer\n",
    "ps = PorterStemmer()\n",
    "\n",
    "df['new_review'] = df['review'].apply(lambda x: [ps.stem(word) for word in x if word.isalpha() and word not in cachedStopWords])\n",
    "df['new_review'] = df['new_review'].apply(lambda x: ' '.join(x))\n",
    "\n",
    "# Separate train and test data\n",
    "df_train = df[df['type']==\"train\"]\n",
    "df_test = df[df['type']==\"test\"]\n",
    "\n",
    "porter_stem_k3_score = Naives_Bayes_F1(3)\n",
    "porter_stem_k3_score"
   ]
  },
  {
   "cell_type": "markdown",
   "id": "845ac5d9",
   "metadata": {},
   "source": [
    "### Compare F1 Score for k = 1, 2, 3"
   ]
  },
  {
   "cell_type": "code",
   "execution_count": 13,
   "id": "9f5c12a9",
   "metadata": {},
   "outputs": [
    {
     "data": {
      "image/png": "[encoded data removed]",
      "text/plain": [
       "<Figure size 864x432 with 1 Axes>"
      ]
     },
     "metadata": {
      "needs_background": "light"
     },
     "output_type": "display_data"
    }
   ],
   "source": [
    "k_smoothing = ['k=1', 'k=2', 'k=3']\n",
    "values = [porter_stem_k1_score, porter_stem_k2_score, porter_stem_k3_score]\n",
    "\n",
    "\n",
    "fig = plt.figure(figsize = (12, 6))\n",
    " \n",
    "# Create the bar plot\n",
    "plt.plot(k_smoothing, values)\n",
    "\n",
    "plt.xlabel(\"Smoothing parameter k\")\n",
    "plt.ylabel(\"F1 score\")\n",
    "plt.title(\"F1 Score for Different smoothing parameter k in Naive Bayes Algorithm\")\n",
    "plt.show()"
   ]
  },
  {
   "cell_type": "code",
   "execution_count": null,
   "id": "1649568d",
   "metadata": {},
   "outputs": [],
   "source": []
  }
 ],
 "metadata": {
  "kernelspec": {
   "display_name": "Python 3 (ipykernel)",
   "language": "python",
   "name": "python3"
  },
  "language_info": {
   "codemirror_mode": {
    "name": "ipython",
    "version": 3
   },
   "file_extension": ".py",
   "mimetype": "text/x-python",
   "name": "python",
   "nbconvert_exporter": "python",
   "pygments_lexer": "ipython3",
   "version": "3.9.7"
  }
 },
 "nbformat": 4,
 "nbformat_minor": 5
}
